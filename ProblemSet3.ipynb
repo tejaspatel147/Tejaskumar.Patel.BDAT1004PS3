{
 "cells": [
  {
   "cell_type": "markdown",
   "metadata": {},
   "source": [
    "## Question 1\n",
    "Introduction:\n",
    "Special thanks to: https://github.com/justmarkham for sharing the dataset and materials.\n",
    "Occupations\n",
    "* Step 1. Import the necessary libraries\n",
    "* Step 2. Import the dataset from this address.\n",
    "* Step 3. Assign it to a variable called users\n",
    "* Step 4. Discover what is the mean age per occupation\n",
    "* Step 5. Discover the Male ratio per occupation and sort it from the most to the least\n",
    "* Step 6. For each occupation, calculate the minimum and maximum ages\n",
    "* Step 7. For each combination of occupation and sex, calculate the mean age\n",
    "* Step 8. For each occupation present the percentage of women and men"
   ]
  },
  {
   "cell_type": "code",
   "execution_count": 2,
   "metadata": {},
   "outputs": [],
   "source": [
    "import io\n",
    "import urllib.request\n",
    "import numpy as np\n",
    "import csv\n",
    "import pandas as pd\n",
    "from functools import reduce\n",
    "\n",
    "url = 'https://raw.githubusercontent.com/justmarkham/DAT8/master/data/u.user'\n",
    "\n",
    "response = urllib.request.urlopen(url).read().decode('utf-8')\n",
    "df = pd.read_csv(io.StringIO(response), delimiter=\"|\")\n",
    "\n",
    "byOccupation = df.groupby(['occupation'])"
   ]
  },
  {
   "cell_type": "code",
   "execution_count": 3,
   "metadata": {},
   "outputs": [
    {
     "name": "stdout",
     "output_type": "stream",
     "text": [
      "Step:4 Mean Age by Occupation\n",
      "occupation\n",
      "administrator    38.746835\n",
      "artist           31.392857\n",
      "doctor           43.571429\n",
      "educator         42.010526\n",
      "engineer         36.388060\n",
      "entertainment    29.222222\n",
      "executive        38.718750\n",
      "healthcare       41.562500\n",
      "homemaker        32.571429\n",
      "lawyer           36.750000\n",
      "librarian        40.000000\n",
      "marketing        37.615385\n",
      "none             26.555556\n",
      "other            34.523810\n",
      "programmer       33.121212\n",
      "retired          63.071429\n",
      "salesman         35.666667\n",
      "scientist        35.548387\n",
      "student          22.081633\n",
      "technician       33.148148\n",
      "writer           36.311111\n",
      "Name: age, dtype: float64\n"
     ]
    }
   ],
   "source": [
    "print(\"Step:4 Mean Age by Occupation\")\n",
    "print(byOccupation['age'].mean())"
   ]
  },
  {
   "cell_type": "code",
   "execution_count": 4,
   "metadata": {},
   "outputs": [
    {
     "name": "stdout",
     "output_type": "stream",
     "text": [
      "Step:5 Male Ratio Per Occupation\n",
      "gender           F    M  All   maleRatio\n",
      "occupation                              \n",
      "administrator   36   43   79   54.430380\n",
      "artist          13   15   28   53.571429\n",
      "doctor           0    7    7  100.000000\n",
      "educator        26   69   95   72.631579\n",
      "engineer         2   65   67   97.014925\n",
      "entertainment    2   16   18   88.888889\n",
      "executive        3   29   32   90.625000\n",
      "healthcare      11    5   16   31.250000\n",
      "homemaker        6    1    7   14.285714\n",
      "lawyer           2   10   12   83.333333\n",
      "librarian       29   22   51   43.137255\n",
      "marketing       10   16   26   61.538462\n",
      "none             4    5    9   55.555556\n",
      "other           36   69  105   65.714286\n",
      "programmer       6   60   66   90.909091\n",
      "retired          1   13   14   92.857143\n",
      "salesman         3    9   12   75.000000\n",
      "scientist        3   28   31   90.322581\n",
      "student         60  136  196   69.387755\n",
      "technician       1   26   27   96.296296\n",
      "writer          19   26   45   57.777778\n",
      "All            273  670  943   71.049841\n"
     ]
    }
   ],
   "source": [
    "print(\"Step:5 Male Ratio Per Occupation\")\n",
    "def getRatio(series):\n",
    "    return (series['M']/(series['All'])) * 100\n",
    "data2 = pd.pivot_table(df,\n",
    "                       index=['occupation'],\n",
    "                       columns=['gender'],\n",
    "                       aggfunc=len,\n",
    "                       fill_value=0,\n",
    "                       margins=True\n",
    "                       )\n",
    "data3 = data2['user_id'].assign(maleRatio=getRatio)\n",
    "print(data3)"
   ]
  },
  {
   "cell_type": "code",
   "execution_count": 5,
   "metadata": {},
   "outputs": [
    {
     "name": "stdout",
     "output_type": "stream",
     "text": [
      "Step:6 Min and Max ages\n",
      "Max Age\n",
      "occupation\n",
      "administrator    70\n",
      "artist           48\n",
      "doctor           64\n",
      "educator         63\n",
      "engineer         70\n",
      "entertainment    50\n",
      "executive        69\n",
      "healthcare       62\n",
      "homemaker        50\n",
      "lawyer           53\n",
      "librarian        69\n",
      "marketing        55\n",
      "none             55\n",
      "other            64\n",
      "programmer       63\n",
      "retired          73\n",
      "salesman         66\n",
      "scientist        55\n",
      "student          42\n",
      "technician       55\n",
      "writer           60\n",
      "Name: age, dtype: int64\n",
      "Min Age\n",
      "occupation\n",
      "administrator    21\n",
      "artist           19\n",
      "doctor           28\n",
      "educator         23\n",
      "engineer         22\n",
      "entertainment    15\n",
      "executive        22\n",
      "healthcare       22\n",
      "homemaker        20\n",
      "lawyer           21\n",
      "librarian        23\n",
      "marketing        24\n",
      "none             11\n",
      "other            13\n",
      "programmer       20\n",
      "retired          51\n",
      "salesman         18\n",
      "scientist        23\n",
      "student           7\n",
      "technician       21\n",
      "writer           18\n",
      "Name: age, dtype: int64\n"
     ]
    }
   ],
   "source": [
    "print(\"Step:6 Min and Max ages\")\n",
    "dfAgesByOccupation = byOccupation['age']\n",
    "print(\"Max Age\")\n",
    "print(dfAgesByOccupation.max())\n",
    "print(\"Min Age\")\n",
    "print(dfAgesByOccupation.min())"
   ]
  },
  {
   "cell_type": "code",
   "execution_count": 6,
   "metadata": {},
   "outputs": [
    {
     "name": "stdout",
     "output_type": "stream",
     "text": [
      "Step:7 By Occupation and Sex Mean Age\n",
      "occupation     gender\n",
      "administrator  F         40.638889\n",
      "               M         37.162791\n",
      "artist         F         30.307692\n",
      "               M         32.333333\n",
      "doctor         M         43.571429\n",
      "educator       F         39.115385\n",
      "               M         43.101449\n",
      "engineer       F         29.500000\n",
      "               M         36.600000\n",
      "entertainment  F         31.000000\n",
      "               M         29.000000\n",
      "executive      F         44.000000\n",
      "               M         38.172414\n",
      "healthcare     F         39.818182\n",
      "               M         45.400000\n",
      "homemaker      F         34.166667\n",
      "               M         23.000000\n",
      "lawyer         F         39.500000\n",
      "               M         36.200000\n",
      "librarian      F         40.000000\n",
      "               M         40.000000\n",
      "marketing      F         37.200000\n",
      "               M         37.875000\n",
      "none           F         36.500000\n",
      "               M         18.600000\n",
      "other          F         35.472222\n",
      "               M         34.028986\n",
      "programmer     F         32.166667\n",
      "               M         33.216667\n",
      "retired        F         70.000000\n",
      "               M         62.538462\n",
      "salesman       F         27.000000\n",
      "               M         38.555556\n",
      "scientist      F         28.333333\n",
      "               M         36.321429\n",
      "student        F         20.750000\n",
      "               M         22.669118\n",
      "technician     F         38.000000\n",
      "               M         32.961538\n",
      "writer         F         37.631579\n",
      "               M         35.346154\n",
      "Name: age, dtype: float64\n"
     ]
    }
   ],
   "source": [
    "print(\"Step:7 Mean Age by Occupation and Sex\")\n",
    "print(df.groupby(['occupation','gender'])['age'].mean())"
   ]
  },
  {
   "cell_type": "code",
   "execution_count": 8,
   "metadata": {},
   "outputs": [
    {
     "name": "stdout",
     "output_type": "stream",
     "text": [
      "Step:8 Percentage of Women and men\n",
      "occupation     gender\n",
      "administrator  F          45.569620\n",
      "               M          54.430380\n",
      "artist         F          46.428571\n",
      "               M          53.571429\n",
      "doctor         M         100.000000\n",
      "educator       F          27.368421\n",
      "               M          72.631579\n",
      "engineer       F           2.985075\n",
      "               M          97.014925\n",
      "entertainment  F          11.111111\n",
      "               M          88.888889\n",
      "executive      F           9.375000\n",
      "               M          90.625000\n",
      "healthcare     F          68.750000\n",
      "               M          31.250000\n",
      "homemaker      F          85.714286\n",
      "               M          14.285714\n",
      "lawyer         F          16.666667\n",
      "               M          83.333333\n",
      "librarian      F          56.862745\n",
      "               M          43.137255\n",
      "marketing      F          38.461538\n",
      "               M          61.538462\n",
      "none           F          44.444444\n",
      "               M          55.555556\n",
      "other          F          34.285714\n",
      "               M          65.714286\n",
      "programmer     F           9.090909\n",
      "               M          90.909091\n",
      "retired        F           7.142857\n",
      "               M          92.857143\n",
      "salesman       F          25.000000\n",
      "               M          75.000000\n",
      "scientist      F           9.677419\n",
      "               M          90.322581\n",
      "student        F          30.612245\n",
      "               M          69.387755\n",
      "technician     F           3.703704\n",
      "               M          96.296296\n",
      "writer         F          42.222222\n",
      "               M          57.777778\n",
      "Name: gender, dtype: float64\n"
     ]
    }
   ],
   "source": [
    "print(\"Step:8 Percentage of Women and men\")\n",
    "byOccupationGenderCount = df.groupby(['occupation', 'gender']).agg({'gender': 'count'})\n",
    "percentage = byOccupationGenderCount.div(byOccupation.count(), level = \"occupation\") * 100\n",
    "print(percentage['gender'])"
   ]
  },
  {
   "cell_type": "markdown",
   "metadata": {},
   "source": [
    "## Question 2\n",
    "Euro Teams\n",
    "* Step 1. Import the necessary libraries\n",
    "* Step 2. Import the dataset from this address\n",
    "* Step 3. Assign it to a variable called euro12\n",
    "* Step 4. Select only the Goal column\n",
    "* Step 5. How many team participated in the Euro2012?\n",
    "* Step 6. What is the number of columns in the dataset?\n",
    "* Step 7. View only the columns Team, Yellow Cards and Red Cards and assign them to a dataframe called discipline\n",
    "* Step 8. Sort the teams by Red Cards, then to Yellow Cards\n",
    "* Step 9. Calculate the mean Yellow Cards given per Team\n",
    "* Step 10. Filter teams that scored more than 6 goals\n",
    "* Step 11. Select the teams that start with G\n",
    "* Step 12. Select the first 7 columns\n",
    "* Step 13. Select all columns except the last 3\n",
    "* Step 14. Present only the Shooting Accuracy from England, Italy and Russia"
   ]
  },
  {
   "cell_type": "code",
   "execution_count": 9,
   "metadata": {},
   "outputs": [
    {
     "name": "stdout",
     "output_type": "stream",
     "text": [
      "Step:4 Select only the Goal column\n",
      "0      4\n",
      "1      4\n",
      "2      4\n",
      "3      5\n",
      "4      3\n",
      "5     10\n",
      "6      5\n",
      "7      6\n",
      "8      2\n",
      "9      2\n",
      "10     6\n",
      "11     1\n",
      "12     5\n",
      "13    12\n",
      "14     5\n",
      "15     2\n",
      "Name: Goals, dtype: int64\n"
     ]
    }
   ],
   "source": [
    "import io\n",
    "import urllib.request\n",
    "import numpy as np\n",
    "import csv\n",
    "import pandas as pd\n",
    "from functools import reduce\n",
    "\n",
    "url = 'https://raw.githubusercontent.com/guipsamora/pandas_exercises/master/02_Filtering_%26_Sorting/Euro12/Euro_2012_stats_TEAM.csv'\n",
    "\n",
    "print('Step:4 Select only the Goal column')\n",
    "euro12 = pd.read_csv(url, sep=',')\n",
    "print(euro12['Goals'])"
   ]
  },
  {
   "cell_type": "code",
   "execution_count": 10,
   "metadata": {},
   "outputs": [
    {
     "name": "stdout",
     "output_type": "stream",
     "text": [
      "Step:5 How many team participated in the Euro2012?\n",
      "16\n"
     ]
    }
   ],
   "source": [
    "print('Step:5 How many team participated in the Euro2012?')\n",
    "print(euro12.shape[0])"
   ]
  },
  {
   "cell_type": "code",
   "execution_count": 11,
   "metadata": {},
   "outputs": [
    {
     "name": "stdout",
     "output_type": "stream",
     "text": [
      "Step 6. What is the number of columns in the dataset?\n",
      "35\n"
     ]
    }
   ],
   "source": [
    "print('Step 6. What is the number of columns in the dataset?')\n",
    "print(len(euro12.columns))"
   ]
  },
  {
   "cell_type": "code",
   "execution_count": 12,
   "metadata": {},
   "outputs": [
    {
     "name": "stdout",
     "output_type": "stream",
     "text": [
      "Step 7. View only the columns Team, Yellow Cards and Red Cards and assign them to a dataframe called discipline\n",
      "                   Team  Yellow Cards  Red Cards\n",
      "0               Croatia             9          0\n",
      "1        Czech Republic             7          0\n",
      "2               Denmark             4          0\n",
      "3               England             5          0\n",
      "4                France             6          0\n",
      "5               Germany             4          0\n",
      "6                Greece             9          1\n",
      "7                 Italy            16          0\n",
      "8           Netherlands             5          0\n",
      "9                Poland             7          1\n",
      "10             Portugal            12          0\n",
      "11  Republic of Ireland             6          1\n",
      "12               Russia             6          0\n",
      "13                Spain            11          0\n",
      "14               Sweden             7          0\n",
      "15              Ukraine             5          0\n"
     ]
    }
   ],
   "source": [
    "print('Step 7. View only the columns Team, Yellow Cards and Red Cards and assign them to a dataframe called discipline')\n",
    "discipline = euro12[['Team', 'Yellow Cards', 'Red Cards']]\n",
    "print(discipline)"
   ]
  },
  {
   "cell_type": "code",
   "execution_count": 13,
   "metadata": {},
   "outputs": [
    {
     "name": "stdout",
     "output_type": "stream",
     "text": [
      "Step 8. Sort the teams by Red Cards, then to Yellow Cards\n",
      "                   Team  Yellow Cards  Red Cards\n",
      "2               Denmark             4          0\n",
      "5               Germany             4          0\n",
      "3               England             5          0\n",
      "8           Netherlands             5          0\n",
      "15              Ukraine             5          0\n",
      "4                France             6          0\n",
      "12               Russia             6          0\n",
      "1        Czech Republic             7          0\n",
      "14               Sweden             7          0\n",
      "0               Croatia             9          0\n",
      "13                Spain            11          0\n",
      "10             Portugal            12          0\n",
      "7                 Italy            16          0\n",
      "11  Republic of Ireland             6          1\n",
      "9                Poland             7          1\n",
      "6                Greece             9          1\n"
     ]
    }
   ],
   "source": [
    "print('Step 8. Sort the teams by Red Cards, then to Yellow Cards')\n",
    "srted = discipline.sort_values(['Red Cards', 'Yellow Cards'])\n",
    "print(srted)"
   ]
  },
  {
   "cell_type": "code",
   "execution_count": 14,
   "metadata": {},
   "outputs": [
    {
     "name": "stdout",
     "output_type": "stream",
     "text": [
      "Step 9. Calculate the mean Yellow Cards given per Team\n",
      "7.4375\n"
     ]
    }
   ],
   "source": [
    "print('Step 9. Calculate the mean Yellow Cards given per Team')\n",
    "print(discipline['Yellow Cards'].mean())"
   ]
  },
  {
   "cell_type": "code",
   "execution_count": 15,
   "metadata": {},
   "outputs": [
    {
     "name": "stdout",
     "output_type": "stream",
     "text": [
      "Step 10. Filter teams that scored more than 6 goalsStep 11. Select the teams that start with G\n",
      "       Team  Goals  Shots on target  Shots off target Shooting Accuracy  \\\n",
      "5   Germany     10               32                32             47.8%   \n",
      "13    Spain     12               42                33             55.9%   \n",
      "\n",
      "   % Goals-to-shots  Total shots (inc. Blocked)  Hit Woodwork  Penalty goals  \\\n",
      "5             15.6%                          80             2              1   \n",
      "13            16.0%                         100             0              1   \n",
      "\n",
      "    Penalties not scored  ...  Saves made  Saves-to-shots ratio  Fouls Won  \\\n",
      "5                      0  ...          10                 62.6%         63   \n",
      "13                     0  ...          15                 93.8%        102   \n",
      "\n",
      "   Fouls Conceded  Offsides  Yellow Cards  Red Cards  Subs on  Subs off  \\\n",
      "5              49        12             4          0       15        15   \n",
      "13             83        19            11          0       17        17   \n",
      "\n",
      "    Players Used  \n",
      "5             17  \n",
      "13            18  \n",
      "\n",
      "[2 rows x 35 columns]\n"
     ]
    }
   ],
   "source": [
    "print('Step 10. Filter teams that scored more than 6 goals')\n",
    "print(euro12[euro12['Goals'] > 6])"
   ]
  },
  {
   "cell_type": "code",
   "execution_count": 16,
   "metadata": {},
   "outputs": [
    {
     "name": "stdout",
     "output_type": "stream",
     "text": [
      "Step 11. Select the teams that start with G\n",
      "      Team  Goals  Shots on target  Shots off target Shooting Accuracy  \\\n",
      "5  Germany     10               32                32             47.8%   \n",
      "6   Greece      5                8                18             30.7%   \n",
      "\n",
      "  % Goals-to-shots  Total shots (inc. Blocked)  Hit Woodwork  Penalty goals  \\\n",
      "5            15.6%                          80             2              1   \n",
      "6            19.2%                          32             1              1   \n",
      "\n",
      "   Penalties not scored  ...  Saves made  Saves-to-shots ratio  Fouls Won  \\\n",
      "5                     0  ...          10                 62.6%         63   \n",
      "6                     1  ...          13                 65.1%         67   \n",
      "\n",
      "  Fouls Conceded  Offsides  Yellow Cards  Red Cards  Subs on  Subs off  \\\n",
      "5             49        12             4          0       15        15   \n",
      "6             48        12             9          1       12        12   \n",
      "\n",
      "   Players Used  \n",
      "5            17  \n",
      "6            20  \n",
      "\n",
      "[2 rows x 35 columns]\n"
     ]
    }
   ],
   "source": [
    "print('Step 11. Select the teams that start with G')\n",
    "print(euro12[euro12['Team'].str.startswith('G')])"
   ]
  },
  {
   "cell_type": "code",
   "execution_count": 17,
   "metadata": {},
   "outputs": [
    {
     "name": "stdout",
     "output_type": "stream",
     "text": [
      "Step 12. Select the first 7 columns\n",
      "                   Team  Goals  Shots on target  Shots off target  \\\n",
      "0               Croatia      4               13                12   \n",
      "1        Czech Republic      4               13                18   \n",
      "2               Denmark      4               10                10   \n",
      "3               England      5               11                18   \n",
      "4                France      3               22                24   \n",
      "5               Germany     10               32                32   \n",
      "6                Greece      5                8                18   \n",
      "7                 Italy      6               34                45   \n",
      "8           Netherlands      2               12                36   \n",
      "9                Poland      2               15                23   \n",
      "10             Portugal      6               22                42   \n",
      "11  Republic of Ireland      1                7                12   \n",
      "12               Russia      5                9                31   \n",
      "13                Spain     12               42                33   \n",
      "14               Sweden      5               17                19   \n",
      "15              Ukraine      2                7                26   \n",
      "\n",
      "   Shooting Accuracy % Goals-to-shots  Total shots (inc. Blocked)  \n",
      "0              51.9%            16.0%                          32  \n",
      "1              41.9%            12.9%                          39  \n",
      "2              50.0%            20.0%                          27  \n",
      "3              50.0%            17.2%                          40  \n",
      "4              37.9%             6.5%                          65  \n",
      "5              47.8%            15.6%                          80  \n",
      "6              30.7%            19.2%                          32  \n",
      "7              43.0%             7.5%                         110  \n",
      "8              25.0%             4.1%                          60  \n",
      "9              39.4%             5.2%                          48  \n",
      "10             34.3%             9.3%                          82  \n",
      "11             36.8%             5.2%                          28  \n",
      "12             22.5%            12.5%                          59  \n",
      "13             55.9%            16.0%                         100  \n",
      "14             47.2%            13.8%                          39  \n",
      "15             21.2%             6.0%                          38  \n"
     ]
    }
   ],
   "source": [
    "print('Step 12. Select the first 7 columns')\n",
    "print(euro12.iloc[: , 0:7])"
   ]
  },
  {
   "cell_type": "code",
   "execution_count": 18,
   "metadata": {},
   "outputs": [
    {
     "name": "stdout",
     "output_type": "stream",
     "text": [
      "Step 13. Select all columns except the last 3\n",
      "                   Team  Goals  Shots on target  Shots off target  \\\n",
      "0               Croatia      4               13                12   \n",
      "1        Czech Republic      4               13                18   \n",
      "2               Denmark      4               10                10   \n",
      "3               England      5               11                18   \n",
      "4                France      3               22                24   \n",
      "5               Germany     10               32                32   \n",
      "6                Greece      5                8                18   \n",
      "7                 Italy      6               34                45   \n",
      "8           Netherlands      2               12                36   \n",
      "9                Poland      2               15                23   \n",
      "10             Portugal      6               22                42   \n",
      "11  Republic of Ireland      1                7                12   \n",
      "12               Russia      5                9                31   \n",
      "13                Spain     12               42                33   \n",
      "14               Sweden      5               17                19   \n",
      "15              Ukraine      2                7                26   \n",
      "\n",
      "   Shooting Accuracy % Goals-to-shots  Total shots (inc. Blocked)  \\\n",
      "0              51.9%            16.0%                          32   \n",
      "1              41.9%            12.9%                          39   \n",
      "2              50.0%            20.0%                          27   \n",
      "3              50.0%            17.2%                          40   \n",
      "4              37.9%             6.5%                          65   \n",
      "5              47.8%            15.6%                          80   \n",
      "6              30.7%            19.2%                          32   \n",
      "7              43.0%             7.5%                         110   \n",
      "8              25.0%             4.1%                          60   \n",
      "9              39.4%             5.2%                          48   \n",
      "10             34.3%             9.3%                          82   \n",
      "11             36.8%             5.2%                          28   \n",
      "12             22.5%            12.5%                          59   \n",
      "13             55.9%            16.0%                         100   \n",
      "14             47.2%            13.8%                          39   \n",
      "15             21.2%             6.0%                          38   \n",
      "\n",
      "    Hit Woodwork  Penalty goals  Penalties not scored  ...  Clean Sheets  \\\n",
      "0              0              0                     0  ...             0   \n",
      "1              0              0                     0  ...             1   \n",
      "2              1              0                     0  ...             1   \n",
      "3              0              0                     0  ...             2   \n",
      "4              1              0                     0  ...             1   \n",
      "5              2              1                     0  ...             1   \n",
      "6              1              1                     1  ...             1   \n",
      "7              2              0                     0  ...             2   \n",
      "8              2              0                     0  ...             0   \n",
      "9              0              0                     0  ...             0   \n",
      "10             6              0                     0  ...             2   \n",
      "11             0              0                     0  ...             0   \n",
      "12             2              0                     0  ...             0   \n",
      "13             0              1                     0  ...             5   \n",
      "14             3              0                     0  ...             1   \n",
      "15             0              0                     0  ...             0   \n",
      "\n",
      "    Blocks  Goals conceded Saves made  Saves-to-shots ratio  Fouls Won  \\\n",
      "0       10               3         13                 81.3%         41   \n",
      "1       10               6          9                 60.1%         53   \n",
      "2       10               5         10                 66.7%         25   \n",
      "3       29               3         22                 88.1%         43   \n",
      "4        7               5          6                 54.6%         36   \n",
      "5       11               6         10                 62.6%         63   \n",
      "6       23               7         13                 65.1%         67   \n",
      "7       18               7         20                 74.1%        101   \n",
      "8        9               5         12                 70.6%         35   \n",
      "9        8               3          6                 66.7%         48   \n",
      "10      11               4         10                 71.5%         73   \n",
      "11      23               9         17                 65.4%         43   \n",
      "12       8               3         10                 77.0%         34   \n",
      "13       8               1         15                 93.8%        102   \n",
      "14      12               5          8                 61.6%         35   \n",
      "15       4               4         13                 76.5%         48   \n",
      "\n",
      "    Fouls Conceded  Offsides  Yellow Cards  Red Cards  \n",
      "0               62         2             9          0  \n",
      "1               73         8             7          0  \n",
      "2               38         8             4          0  \n",
      "3               45         6             5          0  \n",
      "4               51         5             6          0  \n",
      "5               49        12             4          0  \n",
      "6               48        12             9          1  \n",
      "7               89        16            16          0  \n",
      "8               30         3             5          0  \n",
      "9               56         3             7          1  \n",
      "10              90        10            12          0  \n",
      "11              51        11             6          1  \n",
      "12              43         4             6          0  \n",
      "13              83        19            11          0  \n",
      "14              51         7             7          0  \n",
      "15              31         4             5          0  \n",
      "\n",
      "[16 rows x 32 columns]\n"
     ]
    }
   ],
   "source": [
    "print('Step 13. Select all columns except the last 3')\n",
    "print(euro12.iloc[: , :-3])"
   ]
  },
  {
   "cell_type": "code",
   "execution_count": 19,
   "metadata": {},
   "outputs": [
    {
     "name": "stdout",
     "output_type": "stream",
     "text": [
      "Step 14. Present only the Shooting Accuracy from England, Italy and Russia\n",
      "       Team Shooting Accuracy\n",
      "3   England             50.0%\n",
      "7     Italy             43.0%\n",
      "12   Russia             22.5%\n"
     ]
    }
   ],
   "source": [
    "print('Step 14. Present only the Shooting Accuracy from England, Italy and Russia')\n",
    "teams = ['England', 'Italy', 'Russia']\n",
    "cols = ['Team','Shooting Accuracy']\n",
    "print(euro12.loc[euro12['Team'].isin(teams), cols])"
   ]
  },
  {
   "cell_type": "markdown",
   "metadata": {},
   "source": [
    "## Question 3\n",
    "Housing\n",
    "* Step 1. Import the necessary libraries\n",
    "* Step 2. Create 3 differents Series, each of length 100, as follows:\n",
    "* • The first a random number from 1 to 4\n",
    "* • The second a random number from 1 to 3\n",
    "* • The third a random number from 10,000 to 30,000\n",
    "* Step 3. Create a DataFrame by joinning the Series by column\n",
    "* Step 4. Change the name of the columns to bedrs, bathrs, price_sqr_meter\n",
    "* Step 5. Create a one column DataFrame with the values of the 3 Series and assign it to 'bigcolumn'\n",
    "* Step 6. Ops it seems it is going only until index 99. Is it true?\n",
    "* Step 7. Reindex the DataFrame so it goes from 0 to 299"
   ]
  },
  {
   "cell_type": "code",
   "execution_count": 20,
   "metadata": {},
   "outputs": [
    {
     "name": "stdout",
     "output_type": "stream",
     "text": [
      "Step 2. Create 3 differents Series, each of length 100\n",
      "0     1\n",
      "1     3\n",
      "2     2\n",
      "3     1\n",
      "4     4\n",
      "     ..\n",
      "95    2\n",
      "96    4\n",
      "97    4\n",
      "98    2\n",
      "99    4\n",
      "Length: 100, dtype: int32 0     2\n",
      "1     2\n",
      "2     3\n",
      "3     3\n",
      "4     1\n",
      "     ..\n",
      "95    1\n",
      "96    1\n",
      "97    2\n",
      "98    3\n",
      "99    1\n",
      "Length: 100, dtype: int32 0     25534\n",
      "1     14834\n",
      "2     20081\n",
      "3     29872\n",
      "4     20230\n",
      "      ...  \n",
      "95    17753\n",
      "96    19883\n",
      "97    24006\n",
      "98    10665\n",
      "99    22554\n",
      "Length: 100, dtype: int32\n"
     ]
    }
   ],
   "source": [
    "import io\n",
    "import urllib.request\n",
    "import numpy as np\n",
    "import csv\n",
    "import pandas as pd\n",
    "from functools import reduce\n",
    "\n",
    "print('Step 2. Create 3 differents Series, each of length 100')\n",
    "series1 = pd.Series(np.random.randint(1, high=5, size=100))\n",
    "series2 = pd.Series(np.random.randint(1, high=4, size=100))\n",
    "series3 = pd.Series(np.random.randint(10000, high=30001, size=100))\n",
    "\n",
    "print(series1, series2, series3)"
   ]
  },
  {
   "cell_type": "code",
   "execution_count": 21,
   "metadata": {},
   "outputs": [
    {
     "name": "stdout",
     "output_type": "stream",
     "text": [
      "Step 3. Create a DataFrame by joinning the Series by column\n",
      "    0  1      2\n",
      "0   1  2  25534\n",
      "1   3  2  14834\n",
      "2   2  3  20081\n",
      "3   1  3  29872\n",
      "4   4  1  20230\n",
      ".. .. ..    ...\n",
      "95  2  1  17753\n",
      "96  4  1  19883\n",
      "97  4  2  24006\n",
      "98  2  3  10665\n",
      "99  4  1  22554\n",
      "\n",
      "[100 rows x 3 columns]\n"
     ]
    }
   ],
   "source": [
    "print('Step 3. Create a DataFrame by joinning the Series by column')\n",
    "housing = pd.concat([series1, series2, series3], axis=1)\n",
    "print(housing)"
   ]
  },
  {
   "cell_type": "code",
   "execution_count": 22,
   "metadata": {},
   "outputs": [
    {
     "name": "stdout",
     "output_type": "stream",
     "text": [
      "Step 4. Change the name of the columns to bedrs, bathrs, price_sqr_meter\n",
      "    bedrs  bathrs  price_sqr_meter\n",
      "0       1       2            25534\n",
      "1       3       2            14834\n",
      "2       2       3            20081\n",
      "3       1       3            29872\n",
      "4       4       1            20230\n",
      "..    ...     ...              ...\n",
      "95      2       1            17753\n",
      "96      4       1            19883\n",
      "97      4       2            24006\n",
      "98      2       3            10665\n",
      "99      4       1            22554\n",
      "\n",
      "[100 rows x 3 columns]\n"
     ]
    }
   ],
   "source": [
    "print('Step 4. Change the name of the columns to bedrs, bathrs, price_sqr_meter')\n",
    "housing.rename(columns = {0: 'bedrs', 1: 'bathrs', 2: 'price_sqr_meter'}, inplace=True)\n",
    "print(housing)"
   ]
  },
  {
   "cell_type": "code",
   "execution_count": 24,
   "metadata": {},
   "outputs": [
    {
     "name": "stdout",
     "output_type": "stream",
     "text": [
      "Step 5. Create a one column DataFrame with the values of the 3 Series and assign it to \"bigcolumn\"\n",
      "        0\n",
      "0       1\n",
      "1       3\n",
      "2       2\n",
      "3       1\n",
      "4       4\n",
      "..    ...\n",
      "95  17753\n",
      "96  19883\n",
      "97  24006\n",
      "98  10665\n",
      "99  22554\n",
      "\n",
      "[300 rows x 1 columns]\n"
     ]
    }
   ],
   "source": [
    "print('Step 5. Create a one column DataFrame with the values of the 3 Series and assign it to \"bigcolumn\"')\n",
    "bigcolumn = pd.concat([series1, series2, series3], axis=0).to_frame()\n",
    "print(bigcolumn)"
   ]
  },
  {
   "cell_type": "code",
   "execution_count": 25,
   "metadata": {},
   "outputs": [
    {
     "name": "stdout",
     "output_type": "stream",
     "text": [
      "Step 6. Ops it seems it is going only until index 99. Is it true?\n",
      "Big column index is only size 99 however the size is 300\n",
      "300\n"
     ]
    }
   ],
   "source": [
    "print('Step 6. Ops it seems it is going only until index 99. Is it true?')\n",
    "print('Big column index is only size 99 however the size is 300')\n",
    "print(len(bigcolumn))"
   ]
  },
  {
   "cell_type": "code",
   "execution_count": 26,
   "metadata": {},
   "outputs": [
    {
     "name": "stdout",
     "output_type": "stream",
     "text": [
      "Step 7. Reindex the DataFrame so it goes from 0 to 299\n",
      "None\n"
     ]
    }
   ],
   "source": [
    "print('Step 7. Reindex the DataFrame so it goes from 0 to 299')\n",
    "print(bigcolumn.reset_index(drop=True, inplace=True))"
   ]
  },
  {
   "cell_type": "markdown",
   "metadata": {},
   "source": [
    "## Question 4\n",
    "Wind Statistics\n",
    "The data have been modified to contain some missing values, identified by NaN.\n",
    "Using pandas should make this exercise easier, in particular for the bonus question.\n",
    "You should be able to perform all of these operations without using a for loop or other looping construct.\n",
    "The data in 'wind.data' has the following format:\n",
    "Yr Mo Dy RPT VAL ROS KIL SHA BIR DUB CLA MUL CLO BEL MAL\n",
    "61 1 1 15.04 14.96 13.17 9.29 NaN 9.87 13.67 10.25 10.83 12.58 18.50 15.04\n",
    "61 1 2 14.71 NaN 10.83 6.50 12.62 7.67 11.50 10.04 9.79 9.67 17.54 13.83\n",
    "61 1 3 18.50 16.88 12.33 10.13 11.17 6.17 11.25 NaN 8.50 7.67 12.75 12.71\n",
    "The first three columns are year, month, and day. The remaining 12 columns are average windspeeds in knots at 12 locations in Ireland on that day.\n",
    "* Step 1. Import the necessary libraries\n",
    "* Step 2. Import the dataset from this address\n",
    "* Step 3. Assign it to a variable called data and replace the first 3 columns by a proper datetime index.\n",
    "* Step 4. Year 2061? Do we really have data from this year? Create a function to fix it and apply it.\n",
    "* Step 5. Set the right dates as the index. Pay attention at the data type, it should be datetime64[ns].\n",
    "* Step 6. Compute how many values are missing for each location over the entire record.They should be ignored in all calculations below.\n",
    "* Step 7. Compute how many non-missing values there are in total.\n",
    "* Step 8. Calculate the mean windspeeds of the windspeeds over all the locations and all the times.\n",
    "A single number for the entire dataset.\n",
    "* Step 9. Create a DataFrame called loc_stats and calculate the min, max and mean windspeeds and standard deviations of the windspeeds at each location over all the days\n",
    "A different set of numbers for each location.\n",
    "* Step 10. Create a DataFrame called day_stats and calculate the min, max and mean windspeed and standard deviations of the windspeeds across all the locations at each day.\n",
    "A different set of numbers for each day.\n",
    "* Step 11. Find the average windspeed in January for each location.\n",
    "Treat January 1961 and January 1962 both as January.\n",
    "* Step 12. Downsample the record to a yearly frequency for each location.\n",
    "* Step 13. Downsample the record to a monthly frequency for each location.\n",
    "* Step 14. Downsample the record to a weekly frequency for each location.\n",
    "* Step 15. Calculate the min, max and mean windspeeds and standard deviations of the windspeeds across all locations for each week (assume that the first week starts on January 2 1961) for the first 52 weeks."
   ]
  },
  {
   "cell_type": "code",
   "execution_count": 1,
   "metadata": {},
   "outputs": [
    {
     "name": "stdout",
     "output_type": "stream",
     "text": [
      "       Yr_Mo_Dy    RPT    VAL    ROS    KIL    SHA    BIR    DUB    CLA  \\\n",
      "0    2061-01-01  15.04  14.96  13.17   9.29    NaN   9.87  13.67  10.25   \n",
      "1    2061-01-02  14.71    NaN  10.83   6.50  12.62   7.67  11.50  10.04   \n",
      "2    2061-01-03  18.50  16.88  12.33  10.13  11.17   6.17  11.25    NaN   \n",
      "3    2061-01-04  10.58   6.63  11.75   4.58   4.54   2.88   8.63   1.79   \n",
      "4    2061-01-05  13.33  13.25  11.42   6.17  10.71   8.21  11.92   6.54   \n",
      "...         ...    ...    ...    ...    ...    ...    ...    ...    ...   \n",
      "6569 1978-12-27  17.58  16.96  17.62   8.08  13.21  11.67  14.46  15.59   \n",
      "6570 1978-12-28  13.21   5.46  13.46   5.00   8.12   9.42  14.33  16.25   \n",
      "6571 1978-12-29  14.00  10.29  14.42   8.71   9.71  10.54  19.17  12.46   \n",
      "6572 1978-12-30  18.50  14.04  21.29   9.13  12.75   9.71  18.08  12.87   \n",
      "6573 1978-12-31  20.33  17.41  27.29   9.59  12.08  10.13  19.25  11.63   \n",
      "\n",
      "        MUL    CLO    BEL    MAL  \n",
      "0     10.83  12.58  18.50  15.04  \n",
      "1      9.79   9.67  17.54  13.83  \n",
      "2      8.50   7.67  12.75  12.71  \n",
      "3      5.83   5.88   5.46  10.88  \n",
      "4     10.92  10.34  12.92  11.83  \n",
      "...     ...    ...    ...    ...  \n",
      "6569  14.04  14.00  17.21  40.08  \n",
      "6570  15.25  18.05  21.79  41.46  \n",
      "6571  14.50  16.42  18.88  29.58  \n",
      "6572  12.46  12.12  14.67  28.79  \n",
      "6573  11.58  11.38  12.08  22.08  \n",
      "\n",
      "[6574 rows x 13 columns]\n"
     ]
    }
   ],
   "source": [
    "import io\n",
    "import urllib.request\n",
    "import numpy as np\n",
    "import csv\n",
    "import pandas as pd\n",
    "from functools import reduce\n",
    "import datetime\n",
    "\n",
    "# use regex for unknown number of spaces to match\n",
    "data = pd.read_csv(\"wind.data\", sep=\"\\s+\", parse_dates=[['Yr', 'Mo', 'Dy']])\n",
    "print(data)"
   ]
  },
  {
   "cell_type": "code",
   "execution_count": 4,
   "metadata": {},
   "outputs": [
    {
     "name": "stdout",
     "output_type": "stream",
     "text": [
      "Step 4. Year 2061? Do we really have data from this year? Create a function to fix it and apply it.\n",
      "        Yr_Mo_Dy    RPT    VAL    ROS    KIL    SHA    BIR    DUB    CLA  \\\n",
      "0     1961-01-01  15.04  14.96  13.17   9.29    NaN   9.87  13.67  10.25   \n",
      "1     1961-01-02  14.71    NaN  10.83   6.50  12.62   7.67  11.50  10.04   \n",
      "2     1961-01-03  18.50  16.88  12.33  10.13  11.17   6.17  11.25    NaN   \n",
      "3     1961-01-04  10.58   6.63  11.75   4.58   4.54   2.88   8.63   1.79   \n",
      "4     1961-01-05  13.33  13.25  11.42   6.17  10.71   8.21  11.92   6.54   \n",
      "...          ...    ...    ...    ...    ...    ...    ...    ...    ...   \n",
      "6569  1978-12-27  17.58  16.96  17.62   8.08  13.21  11.67  14.46  15.59   \n",
      "6570  1978-12-28  13.21   5.46  13.46   5.00   8.12   9.42  14.33  16.25   \n",
      "6571  1978-12-29  14.00  10.29  14.42   8.71   9.71  10.54  19.17  12.46   \n",
      "6572  1978-12-30  18.50  14.04  21.29   9.13  12.75   9.71  18.08  12.87   \n",
      "6573  1978-12-31  20.33  17.41  27.29   9.59  12.08  10.13  19.25  11.63   \n",
      "\n",
      "        MUL    CLO    BEL    MAL  \n",
      "0     10.83  12.58  18.50  15.04  \n",
      "1      9.79   9.67  17.54  13.83  \n",
      "2      8.50   7.67  12.75  12.71  \n",
      "3      5.83   5.88   5.46  10.88  \n",
      "4     10.92  10.34  12.92  11.83  \n",
      "...     ...    ...    ...    ...  \n",
      "6569  14.04  14.00  17.21  40.08  \n",
      "6570  15.25  18.05  21.79  41.46  \n",
      "6571  14.50  16.42  18.88  29.58  \n",
      "6572  12.46  12.12  14.67  28.79  \n",
      "6573  11.58  11.38  12.08  22.08  \n",
      "\n",
      "[6574 rows x 13 columns]\n"
     ]
    }
   ],
   "source": [
    "print('Step 4. Year 2061? Do we really have data from this year? Create a function to fix it and apply it.')\n",
    "def handle1900YearRange(x):\n",
    "    if(x.year > 2000):\n",
    "        return datetime.date(x.year - 100, x.month, x.day)\n",
    "    else:\n",
    "        return datetime.date(x.year, x.month, x.day)\n",
    "\n",
    "\n",
    "data['Yr_Mo_Dy'] = data['Yr_Mo_Dy'].apply(handle1900YearRange)\n",
    "print(data)"
   ]
  },
  {
   "cell_type": "code",
   "execution_count": 5,
   "metadata": {},
   "outputs": [
    {
     "name": "stdout",
     "output_type": "stream",
     "text": [
      "Step 5. Set the right dates as the index. Pay attention at the data type, it should be datetime64[ns].\n",
      "              RPT    VAL    ROS    KIL    SHA    BIR    DUB    CLA    MUL  \\\n",
      "Yr_Mo_Dy                                                                    \n",
      "1961-01-01  15.04  14.96  13.17   9.29    NaN   9.87  13.67  10.25  10.83   \n",
      "1961-01-02  14.71    NaN  10.83   6.50  12.62   7.67  11.50  10.04   9.79   \n",
      "1961-01-03  18.50  16.88  12.33  10.13  11.17   6.17  11.25    NaN   8.50   \n",
      "1961-01-04  10.58   6.63  11.75   4.58   4.54   2.88   8.63   1.79   5.83   \n",
      "1961-01-05  13.33  13.25  11.42   6.17  10.71   8.21  11.92   6.54  10.92   \n",
      "...           ...    ...    ...    ...    ...    ...    ...    ...    ...   \n",
      "1978-12-27  17.58  16.96  17.62   8.08  13.21  11.67  14.46  15.59  14.04   \n",
      "1978-12-28  13.21   5.46  13.46   5.00   8.12   9.42  14.33  16.25  15.25   \n",
      "1978-12-29  14.00  10.29  14.42   8.71   9.71  10.54  19.17  12.46  14.50   \n",
      "1978-12-30  18.50  14.04  21.29   9.13  12.75   9.71  18.08  12.87  12.46   \n",
      "1978-12-31  20.33  17.41  27.29   9.59  12.08  10.13  19.25  11.63  11.58   \n",
      "\n",
      "              CLO    BEL    MAL  \n",
      "Yr_Mo_Dy                         \n",
      "1961-01-01  12.58  18.50  15.04  \n",
      "1961-01-02   9.67  17.54  13.83  \n",
      "1961-01-03   7.67  12.75  12.71  \n",
      "1961-01-04   5.88   5.46  10.88  \n",
      "1961-01-05  10.34  12.92  11.83  \n",
      "...           ...    ...    ...  \n",
      "1978-12-27  14.00  17.21  40.08  \n",
      "1978-12-28  18.05  21.79  41.46  \n",
      "1978-12-29  16.42  18.88  29.58  \n",
      "1978-12-30  12.12  14.67  28.79  \n",
      "1978-12-31  11.38  12.08  22.08  \n",
      "\n",
      "[6574 rows x 12 columns]\n"
     ]
    }
   ],
   "source": [
    "print('Step 5. Set the right dates as the index. Pay attention at the data type, it should be datetime64[ns].')\n",
    "data[\"Yr_Mo_Dy\"] = pd.to_datetime(data[\"Yr_Mo_Dy\"])\n",
    "data = data.set_index('Yr_Mo_Dy')\n",
    "print(data)"
   ]
  },
  {
   "cell_type": "code",
   "execution_count": 6,
   "metadata": {},
   "outputs": [
    {
     "name": "stdout",
     "output_type": "stream",
     "text": [
      "Step 6. Compute how many values are missing for each location over the entire record.They should be ignored in all calculations below.\n",
      "RPT    6\n",
      "VAL    3\n",
      "ROS    2\n",
      "KIL    5\n",
      "SHA    2\n",
      "BIR    0\n",
      "DUB    3\n",
      "CLA    2\n",
      "MUL    3\n",
      "CLO    1\n",
      "BEL    0\n",
      "MAL    4\n",
      "dtype: int64\n"
     ]
    }
   ],
   "source": [
    "print('Step 6. Compute how many values are missing for each location over the entire record.They should be ignored in all calculations below.')\n",
    "print(data.isnull().sum())"
   ]
  },
  {
   "cell_type": "code",
   "execution_count": 7,
   "metadata": {},
   "outputs": [
    {
     "name": "stdout",
     "output_type": "stream",
     "text": [
      "Step 7. Compute how many non-missing values there are in total.\n",
      "RPT    6568\n",
      "VAL    6571\n",
      "ROS    6572\n",
      "KIL    6569\n",
      "SHA    6572\n",
      "BIR    6574\n",
      "DUB    6571\n",
      "CLA    6572\n",
      "MUL    6571\n",
      "CLO    6573\n",
      "BEL    6574\n",
      "MAL    6570\n",
      "dtype: int64\n"
     ]
    }
   ],
   "source": [
    "print('Step 7. Compute how many non-missing values there are in total.')\n",
    "print(data.notnull().sum())"
   ]
  },
  {
   "cell_type": "code",
   "execution_count": 9,
   "metadata": {},
   "outputs": [
    {
     "name": "stdout",
     "output_type": "stream",
     "text": [
      "Step 8. Calculate the mean windspeeds of the windspeeds over all the locations and all the times.A single number for the entire dataset.\n",
      "10.227883764282167\n"
     ]
    }
   ],
   "source": [
    "print('Step 8. Calculate the mean windspeeds of the windspeeds over all the locations and all the times.A single number for the entire dataset.')\n",
    "print(data.sum().sum() / data.notna().sum().sum())"
   ]
  },
  {
   "cell_type": "code",
   "execution_count": 10,
   "metadata": {},
   "outputs": [
    {
     "name": "stdout",
     "output_type": "stream",
     "text": [
      "Step 9. Create a DataFrame called loc_stats and calculate the min, max and mean windspeeds and standard deviations of the windspeeds at each location over all the days.A different set of numbers for each location.\n",
      "               RPT          VAL          ROS          KIL          SHA  \\\n",
      "count  6568.000000  6571.000000  6572.000000  6569.000000  6572.000000   \n",
      "mean     12.362987    10.644314    11.660526     6.306468    10.455834   \n",
      "std       5.618413     5.267356     5.008450     3.605811     4.936125   \n",
      "min       0.670000     0.210000     1.500000     0.000000     0.130000   \n",
      "50%      11.710000    10.170000    10.920000     5.750000     9.960000   \n",
      "max      35.800000    33.370000    33.840000    28.460000    37.540000   \n",
      "\n",
      "               BIR          DUB          CLA          MUL          CLO  \\\n",
      "count  6574.000000  6571.000000  6572.000000  6571.000000  6573.000000   \n",
      "mean      7.092254     9.797343     8.495053     8.493590     8.707332   \n",
      "std       3.968683     4.977555     4.499449     4.166872     4.503954   \n",
      "min       0.000000     0.000000     0.000000     0.000000     0.040000   \n",
      "50%       6.830000     9.210000     8.080000     8.170000     8.290000   \n",
      "max      26.160000    30.370000    31.080000    25.880000    28.210000   \n",
      "\n",
      "               BEL          MAL  \n",
      "count  6574.000000  6570.000000  \n",
      "mean     13.121007    15.599079  \n",
      "std       5.835037     6.699794  \n",
      "min       0.130000     0.670000  \n",
      "50%      12.500000    15.000000  \n",
      "max      42.380000    42.540000  \n"
     ]
    }
   ],
   "source": [
    "print('Step 9. Create a DataFrame called loc_stats and calculate the min, max and mean windspeeds and standard deviations of the windspeeds at each location over all the days.A different set of numbers for each location.')\n",
    "loc_stats = data.describe(percentiles=[])\n",
    "print(loc_stats)"
   ]
  },
  {
   "cell_type": "code",
   "execution_count": 11,
   "metadata": {},
   "outputs": [
    {
     "name": "stdout",
     "output_type": "stream",
     "text": [
      "Step 10. Create a DataFrame called day_stats and calculate the min, max and mean windspeed and standard deviations of the windspeeds across all the locations at each day.A different set of numbers for each day.\n",
      "             min    max       mean       std\n",
      "Yr_Mo_Dy                                    \n",
      "1961-01-01  9.29  18.50  13.018182  2.808875\n",
      "1961-01-02  6.50  17.54  11.336364  3.188994\n",
      "1961-01-03  6.17  18.50  11.641818  3.681912\n",
      "1961-01-04  1.79  11.75   6.619167  3.198126\n",
      "1961-01-05  6.17  13.33  10.630000  2.445356\n",
      "...          ...    ...        ...       ...\n",
      "1978-12-27  8.08  40.08  16.708333  7.868076\n",
      "1978-12-28  5.00  41.46  15.150000  9.687857\n",
      "1978-12-29  8.71  29.58  14.890000  5.756836\n",
      "1978-12-30  9.13  28.79  15.367500  5.540437\n",
      "1978-12-31  9.59  27.29  15.402500  5.702483\n",
      "\n",
      "[6574 rows x 4 columns]\n"
     ]
    }
   ],
   "source": [
    "print('Step 10. Create a DataFrame called day_stats and calculate the min, max and mean windspeed and standard deviations of the windspeeds across all the locations at each day.A different set of numbers for each day.')\n",
    "day_stats = pd.DataFrame()\n",
    "day_stats['min'] = data.min(axis=1)\n",
    "day_stats['max'] = data.max(axis=1)\n",
    "day_stats['mean'] = data.mean(axis=1)\n",
    "day_stats['std'] = data.std(axis=1)\n",
    "print(day_stats)"
   ]
  },
  {
   "cell_type": "code",
   "execution_count": 12,
   "metadata": {},
   "outputs": [
    {
     "name": "stdout",
     "output_type": "stream",
     "text": [
      "Step 11. Find the average windspeed in January for each location.Treat January 1961 and January 1962 both as January.\n",
      "RPT    14.847325\n",
      "VAL    12.914560\n",
      "ROS    13.299624\n",
      "KIL     7.199498\n",
      "SHA    11.667734\n",
      "BIR     8.054839\n",
      "DUB    11.819355\n",
      "CLA     9.512047\n",
      "MUL     9.543208\n",
      "CLO    10.053566\n",
      "BEL    14.550520\n",
      "MAL    18.028763\n",
      "dtype: float64\n"
     ]
    }
   ],
   "source": [
    "print('Step 11. Find the average windspeed in January for each location.Treat January 1961 and January 1962 both as January.')\n",
    "print(data.loc[data.index.month == 1].mean())"
   ]
  },
  {
   "cell_type": "code",
   "execution_count": 13,
   "metadata": {},
   "outputs": [
    {
     "name": "stdout",
     "output_type": "stream",
     "text": [
      "Step 12. Downsample the record to a yearly frequency for each location.\n",
      "                RPT        VAL        ROS       KIL        SHA       BIR  \\\n",
      "Yr_Mo_Dy                                                                   \n",
      "1961      12.299583  10.351796  11.362369  6.958227  10.881763  7.729726   \n",
      "1962      12.246923  10.110438  11.732712  6.960440  10.657918  7.393068   \n",
      "1963      12.813452  10.836986  12.541151  7.330055  11.724110  8.434712   \n",
      "1964      12.363661  10.920164  12.104372  6.787787  11.454481  7.570874   \n",
      "1965      12.451370  11.075534  11.848767  6.858466  11.024795  7.478110   \n",
      "1966      13.461973  11.557205  12.020630  7.345726  11.805041  7.793671   \n",
      "1967      12.737151  10.990986  11.739397  7.143425  11.630740  7.368164   \n",
      "1968      11.835628  10.468197  11.409754  6.477678  10.760765  6.067322   \n",
      "1969      11.166356   9.723699  10.902000  5.767973   9.873918  6.189973   \n",
      "1970      12.600329  10.726932  11.730247  6.217178  10.567370  7.609452   \n",
      "1971      11.273123   9.095178  11.088329  5.241507   9.440329  6.097151   \n",
      "1972      12.463962  10.561311  12.058333  5.929699   9.430410  6.358825   \n",
      "1973      11.828466  10.680493  10.680493  5.547863   9.640877  6.548740   \n",
      "1974      13.643096  11.811781  12.336356  6.427041  11.110986  6.809781   \n",
      "1975      12.008575  10.293836  11.564712  5.269096   9.190082  5.668521   \n",
      "1976      11.737842  10.203115  10.761230  5.109426   8.846339  6.311038   \n",
      "1977      13.099616  11.144493  12.627836  6.073945  10.003836  8.586438   \n",
      "1978      12.504356  11.044274  11.380000  6.082356  10.167233  7.650658   \n",
      "\n",
      "                DUB        CLA       MUL        CLO        BEL        MAL  \n",
      "Yr_Mo_Dy                                                                   \n",
      "1961       9.733923   8.858788  8.647652   9.835577  13.502795  13.680773  \n",
      "1962      11.020712   8.793753  8.316822   9.676247  12.930685  14.323956  \n",
      "1963      11.075699  10.336548  8.903589  10.224438  13.638877  14.999014  \n",
      "1964      10.259153   9.467350  7.789016  10.207951  13.740546  14.910301  \n",
      "1965      10.618712   8.879918  7.907425   9.918082  12.964247  15.591644  \n",
      "1966      10.579808   8.835096  8.514438   9.768959  14.265836  16.307260  \n",
      "1967      10.652027   9.325616  8.645014   9.547425  14.774548  17.135945  \n",
      "1968       8.859180   8.255519  7.224945   7.832978  12.808634  15.017486  \n",
      "1969       8.564493   7.711397  7.924521   7.754384  12.621233  15.762904  \n",
      "1970       9.609890   8.334630  9.297616   8.289808  13.183644  16.456027  \n",
      "1971       8.385890   6.757315  7.915370   7.229753  12.208932  15.025233  \n",
      "1972       9.704508   7.680792  8.357295   7.515273  12.727377  15.028716  \n",
      "1973       8.482110   7.614274  8.245534   7.812411  12.169699  15.441096  \n",
      "1974      10.084603   9.896986  9.331753   8.736356  13.252959  16.947671  \n",
      "1975       8.562603   7.843836  8.797945   7.382822  12.631671  15.307863  \n",
      "1976       9.149126   7.146202  8.883716   7.883087  12.332377  15.471448  \n",
      "1977      11.523205   8.378384  9.098192   8.821616  13.459068  16.590849  \n",
      "1978       9.489342   8.800466  9.089753   8.301699  12.967397  16.771370  \n"
     ]
    }
   ],
   "source": [
    "print('Step 12. Downsample the record to a yearly frequency for each location.')\n",
    "# A, Y = year end frequency\n",
    "print(data.groupby(data.index.to_period('A')).mean())"
   ]
  },
  {
   "cell_type": "code",
   "execution_count": 14,
   "metadata": {},
   "outputs": [
    {
     "name": "stdout",
     "output_type": "stream",
     "text": [
      "Step 13. Downsample the record to a monthly frequency for each location.\n",
      "                RPT        VAL        ROS       KIL        SHA        BIR  \\\n",
      "Yr_Mo_Dy                                                                    \n",
      "1961-01   14.841333  11.988333  13.431613  7.736774  11.072759   8.588065   \n",
      "1961-02   16.269286  14.975357  14.441481  9.230741  13.852143  10.937500   \n",
      "1961-03   10.890000  11.296452  10.752903  7.284000  10.509355   8.866774   \n",
      "1961-04   10.722667   9.427667   9.998000  5.830667   8.435000   6.495000   \n",
      "1961-05    9.860968   8.850000  10.818065  5.905333   9.490323   6.574839   \n",
      "...             ...        ...        ...       ...        ...        ...   \n",
      "1978-08    9.645161   8.259355   9.032258  4.502903   7.368065   5.935161   \n",
      "1978-09   10.913667  10.895000  10.635000  5.725000  10.372000   9.278333   \n",
      "1978-10    9.897742   8.670968   9.295806  4.721290   8.525161   6.774194   \n",
      "1978-11   16.151667  14.802667  13.508000  7.317333  11.475000   8.743000   \n",
      "1978-12   16.175484  13.748065  15.635161  7.094839  11.398710   9.241613   \n",
      "\n",
      "                DUB        CLA        MUL        CLO        BEL        MAL  \n",
      "Yr_Mo_Dy                                                                    \n",
      "1961-01   11.184839   9.245333   9.085806  10.107419  13.880968  14.703226  \n",
      "1961-02   11.890714  11.846071  11.821429  12.714286  18.583214  15.411786  \n",
      "1961-03    9.644194   9.829677  10.294138  11.251935  16.410968  15.720000  \n",
      "1961-04    6.925333   7.094667   7.342333   7.237000  11.147333  10.278333  \n",
      "1961-05    7.604000   8.177097   8.039355   8.499355  11.900323  12.011613  \n",
      "...             ...        ...        ...        ...        ...        ...  \n",
      "1978-08    5.650323   5.417742   7.241290   5.536774  10.466774  12.054194  \n",
      "1978-09   10.790333   9.583000  10.069333   8.939000  15.680333  19.391333  \n",
      "1978-10    8.115484   7.337742   8.297742   8.243871  13.776774  17.150000  \n",
      "1978-11   11.492333   9.657333  10.701333  10.676000  17.404667  20.723000  \n",
      "1978-12   12.077419  10.194839  10.616774  11.028710  13.859677  21.371613  \n",
      "\n",
      "[216 rows x 12 columns]\n"
     ]
    }
   ],
   "source": [
    "print('Step 13. Downsample the record to a monthly frequency for each location.')\n",
    "# M = Month\n",
    "print(data.groupby(data.index.to_period('M')).mean())"
   ]
  },
  {
   "cell_type": "code",
   "execution_count": 15,
   "metadata": {},
   "outputs": [
    {
     "name": "stdout",
     "output_type": "stream",
     "text": [
      "Step 14. Downsample the record to a weekly frequency for each location.\n",
      "                             RPT        VAL        ROS        KIL        SHA  \\\n",
      "Yr_Mo_Dy                                                                       \n",
      "1960-12-26/1961-01-01  15.040000  14.960000  13.170000   9.290000        NaN   \n",
      "1961-01-02/1961-01-08  13.541429  11.486667  10.487143   6.417143   9.474286   \n",
      "1961-01-09/1961-01-15  12.468571   8.967143  11.958571   4.630000   7.351429   \n",
      "1961-01-16/1961-01-22  13.204286   9.862857  12.982857   6.328571   8.966667   \n",
      "1961-01-23/1961-01-29  19.880000  16.141429  18.225714  12.720000  17.432857   \n",
      "...                          ...        ...        ...        ...        ...   \n",
      "1978-11-27/1978-12-03  14.934286  11.232857  13.941429   5.565714  10.215714   \n",
      "1978-12-04/1978-12-10  20.740000  19.190000  17.034286   9.777143  15.287143   \n",
      "1978-12-11/1978-12-17  16.758571  14.692857  14.987143   6.917143  11.397143   \n",
      "1978-12-18/1978-12-24  11.155714   8.008571  13.172857   4.004286   7.825714   \n",
      "1978-12-25/1978-12-31  14.951429  11.801429  16.035714   6.507143   9.660000   \n",
      "\n",
      "                             BIR        DUB        CLA        MUL        CLO  \\\n",
      "Yr_Mo_Dy                                                                       \n",
      "1960-12-26/1961-01-01   9.870000  13.670000  10.250000  10.830000  12.580000   \n",
      "1961-01-02/1961-01-08   6.435714  11.061429   6.616667   8.434286   8.497143   \n",
      "1961-01-09/1961-01-15   5.072857   7.535714   6.820000   5.712857   7.571429   \n",
      "1961-01-16/1961-01-22   7.417143   9.257143   7.875714   7.145714   8.124286   \n",
      "1961-01-23/1961-01-29  14.828571  15.528571  15.160000  14.480000  15.640000   \n",
      "...                          ...        ...        ...        ...        ...   \n",
      "1978-11-27/1978-12-03   8.618571   9.642857   7.685714   9.011429   9.547143   \n",
      "1978-12-04/1978-12-10  12.774286  14.437143  12.488571  13.870000  14.082857   \n",
      "1978-12-11/1978-12-17   7.272857  10.208571   7.967143   9.168571   8.565714   \n",
      "1978-12-18/1978-12-24   6.290000   7.798571   8.667143   7.151429   8.072857   \n",
      "1978-12-25/1978-12-31   8.620000  13.708571  10.477143  10.868571  11.471429   \n",
      "\n",
      "                             BEL        MAL  \n",
      "Yr_Mo_Dy                                     \n",
      "1960-12-26/1961-01-01  18.500000  15.040000  \n",
      "1961-01-02/1961-01-08  12.481429  13.238571  \n",
      "1961-01-09/1961-01-15  11.125714  11.024286  \n",
      "1961-01-16/1961-01-22   9.821429  11.434286  \n",
      "1961-01-23/1961-01-29  20.930000  22.530000  \n",
      "...                          ...        ...  \n",
      "1978-11-27/1978-12-03  11.835714  18.728571  \n",
      "1978-12-04/1978-12-10  18.517143  23.061429  \n",
      "1978-12-11/1978-12-17  11.102857  15.562857  \n",
      "1978-12-18/1978-12-24  11.845714  18.977143  \n",
      "1978-12-25/1978-12-31  12.947143  26.844286  \n",
      "\n",
      "[940 rows x 12 columns]\n"
     ]
    }
   ],
   "source": [
    "print('Step 14. Downsample the record to a weekly frequency for each location.')\n",
    "# W = Weekly\n",
    "print(data.groupby(data.index.to_period('W')).mean())"
   ]
  },
  {
   "cell_type": "code",
   "execution_count": 16,
   "metadata": {},
   "outputs": [
    {
     "name": "stdout",
     "output_type": "stream",
     "text": [
      "Step 15. Calculate the min, max and mean windspeeds and standard deviations of the windspeeds across all locations for each week (assume that the first week starts on January 2 1961) for the first 52 weeks.\n",
      "              RPT                                VAL                    \\\n",
      "              min    max       mean       std    min    max       mean   \n",
      "Yr_Mo_Dy                                                                 \n",
      "1961-01-08  10.58  18.50  13.541429  2.631321   6.63  16.88  11.486667   \n",
      "1961-01-15   9.04  19.75  12.468571  3.555392   3.54  12.08   8.967143   \n",
      "1961-01-22   4.92  19.83  13.204286  5.337402   3.42  14.37   9.862857   \n",
      "1961-01-29  13.62  25.04  19.880000  4.619061   9.96  23.91  16.141429   \n",
      "1961-02-05  10.58  24.21  16.827143  5.251408   9.46  24.21  15.460000   \n",
      "1961-02-12  16.00  24.54  19.684286  3.587677  11.54  21.42  16.417143   \n",
      "1961-02-19   6.04  22.50  15.130000  5.064609  11.63  20.17  15.091429   \n",
      "1961-02-26   7.79  25.80  15.221429  7.020716   7.08  21.50  13.625714   \n",
      "1961-03-05  10.96  13.33  12.101429  0.997721   8.83  17.00  12.951429   \n",
      "1961-03-12   4.88  14.79   9.376667  3.732263   8.08  16.96  11.578571   \n",
      "1961-03-19   4.92  16.88  11.911429  3.860036   9.46  15.54  13.501429   \n",
      "1961-03-26   6.29  15.00   9.567143  3.613298   2.58  11.63   8.387143   \n",
      "1961-04-02   5.88  18.25  10.757143  5.046922   3.50  16.29   8.852857   \n",
      "1961-04-09   4.50  18.12  11.964286  4.604392   7.04  14.62  10.654286   \n",
      "1961-04-16   4.71  15.50   8.965714  3.937727   4.83  12.25   8.000000   \n",
      "1961-04-23   4.00  21.09  12.621429  5.676655   3.71  15.41  10.438571   \n",
      "1961-04-30   4.08  16.29  10.117143  4.349662   6.50  14.46   9.798571   \n",
      "1961-05-07   9.87  23.00  15.367143  5.025507  10.29  19.79  13.970000   \n",
      "1961-05-14   3.54  12.79   7.772857  3.371022   3.96  15.12   8.712857   \n",
      "1961-05-21   4.88  15.04   8.225714  3.631730   3.58  10.17   5.631667   \n",
      "1961-05-28   4.96  11.79   8.155714  2.739433   3.67  12.50   7.388571   \n",
      "1961-06-04   7.00  15.92  10.321429  3.099701   4.75   9.79   7.407143   \n",
      "1961-06-11   8.29  14.42  10.917143  2.248597   6.83  11.54   8.992857   \n",
      "1961-06-18   6.13  14.33  10.571429  3.009482   4.12  14.54   9.565714   \n",
      "1961-06-25   4.00   9.00   7.345714  1.982035   3.25   9.50   6.108571   \n",
      "1961-07-02   7.21  13.13  10.236667  2.557856   6.34  14.37   9.482857   \n",
      "1961-07-09   7.29  17.50  11.715714  3.664855   3.75  10.75   7.220000   \n",
      "1961-07-16   8.63  22.50  16.680000  5.168710   7.87  19.29  13.518571   \n",
      "1961-07-23   3.04   5.88   4.202857  1.047978   2.92   6.79   4.255714   \n",
      "1961-07-30   6.13  16.08  10.561429  4.157641   4.63  13.79   8.445714   \n",
      "1961-08-06   7.67  16.08  10.870000  2.950887   5.09  15.79   8.792857   \n",
      "1961-08-13   2.88  14.21  10.058333  4.422268   4.42  10.00   7.941429   \n",
      "1961-08-20  13.13  18.91  15.607143  2.283635   7.25  13.62  10.565714   \n",
      "1961-08-27   7.67  18.16  12.391429  3.395857   6.87  14.58  11.430000   \n",
      "1961-09-03   3.63  14.46   8.678571  4.398615   1.13  22.00   8.821429   \n",
      "1961-09-10   5.00  17.62  10.541429  5.207278   3.04  13.59   8.798571   \n",
      "1961-09-17   5.33  28.75  17.160000  7.679190   7.12  22.08  14.440000   \n",
      "1961-09-24   6.92  10.25   8.500000  1.267399   2.92  13.62   7.154286   \n",
      "1961-10-01  10.34  23.21  16.044286  4.559572   6.96  13.62  11.361667   \n",
      "1961-10-08   3.13  16.08  11.250000  5.596710   3.63  16.96   8.757143   \n",
      "1961-10-15   3.71  17.12  10.881667  4.780675   6.13  13.25   9.734286   \n",
      "1961-10-22  10.46  28.62  19.260000  7.888314   3.75  19.46  13.364286   \n",
      "1961-10-29   4.33  26.42  16.077143  7.957637   2.75  21.25  11.867143   \n",
      "1961-11-05   5.88  15.79  11.571429  3.369201   3.96  13.46   9.590000   \n",
      "1961-11-12   5.46  16.08  10.428571  3.939811   5.50  10.75   7.690000   \n",
      "1961-11-19   7.50  15.00  10.798571  2.784358   4.21  13.00   7.951429   \n",
      "1961-11-26   5.75  14.29   9.154286  3.214368   3.29  11.79   7.337143   \n",
      "1961-12-03   7.92  23.75  12.608571  5.704669   4.67  18.71  10.442857   \n",
      "1961-12-10  10.83  23.71  17.362857  4.890152   9.21  21.37  14.362857   \n",
      "1961-12-17   9.29  21.34  14.985714  4.095106   8.63  17.62  13.472857   \n",
      "1961-12-24  11.46  24.41  15.757143  4.959717   9.79  16.13  11.971429   \n",
      "1961-12-31   5.04  20.54  13.634286  5.787783   3.08  16.04   9.504286   \n",
      "\n",
      "                        ROS         ...        CLO              BEL         \\\n",
      "                 std    min    max  ...       mean       std    min    max   \n",
      "Yr_Mo_Dy                            ...                                      \n",
      "1961-01-08  3.949525   7.62  12.33  ...   8.497143  1.704941   5.46  17.54   \n",
      "1961-01-15  3.148945   7.08  19.50  ...   7.571429  4.084293   5.25  20.71   \n",
      "1961-01-22  3.837785   7.29  20.79  ...   8.124286  4.783952   6.50  15.92   \n",
      "1961-01-29  5.170224  12.67  25.84  ...  15.640000  3.713368  14.04  27.71   \n",
      "1961-02-05  5.187395   9.04  19.70  ...   9.460000  2.839501   9.17  19.33   \n",
      "1961-02-12  3.608373  13.67  21.34  ...  14.440000  1.746749  15.21  26.38   \n",
      "1961-02-19  3.575012   6.13  19.41  ...  13.542857  2.531361  14.09  29.63   \n",
      "1961-02-26  5.147348   6.08  22.42  ...  12.730000  4.920064   9.59  23.21   \n",
      "1961-03-05  2.851955   8.17  13.67  ...  12.370000  1.593685  11.58  23.45   \n",
      "1961-03-12  3.230167   7.54  16.38  ...  10.458571  3.655113  10.21  22.71   \n",
      "1961-03-19  2.352867   5.25  13.96  ...  11.627143  3.099472  11.29  22.79   \n",
      "1961-03-26  3.657265   4.79  15.63  ...  11.481429  2.538224   8.25  21.34   \n",
      "1961-04-02  4.687315   5.09  14.96  ...   9.631429  3.191115   7.21  18.63   \n",
      "1961-04-09  2.845399   9.29  18.29  ...   7.238571  2.336182   7.62  17.16   \n",
      "1961-04-16  2.607118   3.92  15.79  ...   6.178571  2.161137   5.75  16.17   \n",
      "1961-04-23  4.631736   3.33  17.00  ...   9.551429  3.347972   6.75  19.21   \n",
      "1961-04-30  2.871425   2.54  14.96  ...   6.124286  2.840568   5.13  13.04   \n",
      "1961-05-07  3.750835   8.42  21.21  ...  11.585714  3.620819   4.79  28.08   \n",
      "1961-05-14  3.782947   4.63  12.33  ...   7.822857  5.460237   6.54  18.66   \n",
      "1961-05-21  2.468906   5.91  15.96  ...   7.114286  2.216889   6.63  12.00   \n",
      "1961-05-28  3.378537   3.58  20.96  ...   7.535714  2.575661   6.13  14.33   \n",
      "1961-06-04  1.868125   6.83  15.96  ...   9.035714  2.096989   8.71  17.00   \n",
      "1961-06-11  1.524836   6.04  11.58  ...   8.397143  2.158323   5.37  16.17   \n",
      "1961-06-18  3.509444   6.50  15.50  ...   9.594286  3.792400   7.29  25.25   \n",
      "1961-06-25  2.212460   5.13  10.37  ...  11.257143  2.286218  11.00  19.08   \n",
      "1961-07-02  2.902411   7.62  10.79  ...  10.268571  1.564144   6.96  21.87   \n",
      "1961-07-09  2.686658   7.41  14.92  ...  10.547143  3.657179   7.08  20.41   \n",
      "1961-07-16  3.849630   8.00  14.29  ...  10.157143  3.271899   5.04  20.25   \n",
      "1961-07-23  1.400010   4.08  12.67  ...   6.041429  1.439785   4.21  10.13   \n",
      "1961-07-30  3.203206   6.42  15.67  ...   9.470000  4.350268   7.87  22.17   \n",
      "1961-08-06  3.985226   5.54  15.59  ...   8.951429  2.903018   6.17  18.54   \n",
      "1961-08-13  2.053326   6.00  11.63  ...   7.235000  2.073777   5.88  14.29   \n",
      "1961-08-20  2.523416   9.17  14.04  ...  12.244286  2.730237   9.59  21.92   \n",
      "1961-08-27  3.174702   9.50  17.83  ...  12.507143  3.855302   5.75  23.38   \n",
      "1961-09-03  7.474025   2.42  12.75  ...   8.924286  3.993736   4.79  24.71   \n",
      "1961-09-10  4.003996   3.63  14.88  ...   7.565714  3.649278   5.41  15.83   \n",
      "1961-09-17  5.360585   7.29  26.50  ...  14.268571  5.128338  13.92  23.91   \n",
      "1961-09-24  3.445262   5.33  12.17  ...   6.798571  2.354092   4.54  20.96   \n",
      "1961-10-01  2.812482   7.87  17.58  ...  11.840000  3.908397   7.79  21.37   \n",
      "1961-10-08  5.060803   4.96  17.83  ...   7.662857  4.296870   4.79  17.83   \n",
      "1961-10-15  2.707483   4.21  20.96  ...   9.494286  3.569308   8.54  20.46   \n",
      "1961-10-22  5.998199   9.92  22.63  ...  16.461429  5.890511  10.88  24.71   \n",
      "1961-10-29  6.879973   4.79  23.09  ...  12.952857  6.277629   8.50  27.29   \n",
      "1961-11-05  3.900278   6.54  14.33  ...  11.864286  2.784450  10.29  20.17   \n",
      "1961-11-12  2.141191   3.83  20.41  ...   6.415714  2.843518   6.13  12.58   \n",
      "1961-11-19  3.208548   6.46  32.71  ...   6.031429  4.402588   0.71   9.59   \n",
      "1961-11-26  3.277904   4.42  14.46  ...   9.582857  2.747452   6.50  20.46   \n",
      "1961-12-03  5.107089   8.00  19.92  ...   7.911429  3.680477   5.50  19.04   \n",
      "1961-12-10  4.115506   9.71  20.54  ...  12.022857  4.156207  10.71  21.79   \n",
      "1961-12-17  3.587886   9.04  19.00  ...  11.058571  4.633398   5.50  22.83   \n",
      "1961-12-24  2.220866   8.08  22.13  ...   7.697143  4.637096   5.29  17.67   \n",
      "1961-12-31  4.566479   2.13  29.33  ...   7.701429  3.526625   3.75  13.21   \n",
      "\n",
      "                                   MAL                              \n",
      "                 mean       std    min    max       mean       std  \n",
      "Yr_Mo_Dy                                                            \n",
      "1961-01-08  12.481429  4.349139  10.88  16.46  13.238571  1.773062  \n",
      "1961-01-15  11.125714  5.552215   5.17  16.92  11.024286  4.692355  \n",
      "1961-01-22   9.821429  3.626584   6.79  17.96  11.434286  4.237239  \n",
      "1961-01-29  20.930000  5.210726  17.50  27.63  22.530000  3.874721  \n",
      "1961-02-05  14.012857  4.210858   7.17  19.25  11.935714  4.336104  \n",
      "1961-02-12  21.832857  4.063753  17.04  21.84  19.155714  1.828705  \n",
      "1961-02-19  21.167143  5.910938  10.96  22.58  16.584286  4.685377  \n",
      "1961-02-26  16.304286  5.091162   6.67  23.87  14.322857  6.182283  \n",
      "1961-03-05  17.842857  4.332331   8.83  17.54  13.951667  3.021387  \n",
      "1961-03-12  16.701429  4.358759   5.54  22.54  14.420000  5.769890  \n",
      "1961-03-19  19.350000  3.779727  11.34  22.95  16.227143  4.331958  \n",
      "1961-03-26  14.037143  4.318069  13.13  22.50  18.134286  3.701846  \n",
      "1961-04-02  13.471429  4.179854   7.17  19.58  13.900000  3.924555  \n",
      "1961-04-09  11.712857  3.147781   7.21  15.34  11.371429  2.598271  \n",
      "1961-04-16   9.482857  3.641464   5.66  12.87   8.690000  2.747842  \n",
      "1961-04-23  13.620000  4.735096   4.96  20.46  12.470000  5.908542  \n",
      "1961-04-30   9.720000  2.948237   2.67  17.50   8.637143  5.108365  \n",
      "1961-05-07  17.548571  8.003490   3.83  26.58  14.571429  7.728504  \n",
      "1961-05-14  10.421429  3.968272   3.33  26.30  10.382857  7.858246  \n",
      "1961-05-21   9.624286  1.975853   5.91  14.96  10.612857  3.310819  \n",
      "1961-05-28  10.518571  3.024524   8.00  17.04  11.697143  3.811818  \n",
      "1961-06-04  12.298571  2.611139  10.63  17.96  13.597143  2.593586  \n",
      "1961-06-11  10.148571  3.993062   5.96  19.83  12.250000  4.925055  \n",
      "1961-06-18  15.351429  6.477887   6.13  24.71  15.025714  6.242673  \n",
      "1961-06-25  14.370000  2.498386  13.75  21.50  17.410000  3.063011  \n",
      "1961-07-02  14.535714  6.303747   8.50  16.79  12.133333  3.652313  \n",
      "1961-07-09  12.220000  4.537988  12.08  21.29  15.987143  3.665705  \n",
      "1961-07-16  13.520000  4.971060   5.96  21.96  12.524286  4.974273  \n",
      "1961-07-23   7.524286  2.050218   5.41  10.92   8.415714  2.133994  \n",
      "1961-07-30  12.841429  5.580903   6.13  25.37  13.761429  6.664574  \n",
      "1961-08-06  11.595714  4.901377   9.08  20.25  13.760000  4.448251  \n",
      "1961-08-13  10.934286  2.931302   5.88  15.16  10.125714  3.356585  \n",
      "1961-08-20  14.922857  4.086725  13.04  24.30  16.626667  3.934238  \n",
      "1961-08-27  16.251429  6.711322   8.29  22.29  16.485714  4.947608  \n",
      "1961-09-03  13.664286  7.678051   5.41  22.54  11.022857  6.308087  \n",
      "1961-09-10  10.700000  4.220584   3.37  20.25  11.034286  6.049619  \n",
      "1961-09-17  19.878571  4.464252  14.67  33.09  18.984286  6.332885  \n",
      "1961-09-24  11.018571  5.235868   5.25  14.62   9.814286  3.113507  \n",
      "1961-10-01  16.208571  5.091268   4.04  17.16  13.338571  4.696504  \n",
      "1961-10-08   8.810000  4.800403   4.83  19.62  11.410000  5.462002  \n",
      "1961-10-15  14.451429  4.113200  10.75  21.04  15.260000  4.098130  \n",
      "1961-10-22  17.477143  5.645871  13.46  33.45  23.641429  7.468377  \n",
      "1961-10-29  15.592857  7.056150   9.83  30.88  18.404286  8.340881  \n",
      "1961-11-05  16.322857  4.038493  13.37  23.58  19.195714  3.870800  \n",
      "1961-11-12   9.208571  2.532196   5.71  15.54  10.858571  3.690752  \n",
      "1961-11-19   5.875714  3.643285   2.00  13.25   5.737143  3.787654  \n",
      "1961-11-26  11.772857  5.407223   4.25  22.58  12.732857  6.475867  \n",
      "1961-12-03  11.464286  5.552648   5.88  21.29  14.725714  5.233192  \n",
      "1961-12-10  15.975714  4.667933   7.58  29.33  16.241429  7.345893  \n",
      "1961-12-17  15.112857  6.531043   6.50  21.12  14.644286  5.665006  \n",
      "1961-12-24   9.958571  5.065308   2.62  16.62   8.164286  5.048035  \n",
      "1961-12-31   9.697143  3.262217   6.63  15.21  12.840000  3.012729  \n",
      "\n",
      "[52 rows x 48 columns]\n"
     ]
    }
   ],
   "source": [
    "print('Step 15. Calculate the min, max and mean windspeeds and standard deviations of the windspeeds across all locations for each week (assume that the first week starts on January 2 1961) for the first 52 weeks.')\n",
    "weekly = data.resample('W').agg(['min','max','mean','std'])\n",
    "print(weekly.loc[weekly.index[1:53], :])"
   ]
  },
  {
   "cell_type": "markdown",
   "metadata": {},
   "source": [
    "## Question 5\n",
    "* Step 1. Import the necessary libraries\n",
    "* Step 2. Import the dataset from this address.\n",
    "* * Step 3. Assign it to a variable called chipo.\n",
    "* Step 4. See the first 10 entries\n",
    "* Step 5. What is the number of observations in the dataset?\n",
    "* Step 6. What is the number of columns in the dataset?\n",
    "* Step 7. Print the name of all the columns.\n",
    "* Step 8. How is the dataset indexed?\n",
    "* Step 9. Which was the most-ordered item?\n",
    "* Step 10. For the most-ordered item, how many items were ordered?\n",
    "* Step 11. What was the most ordered item in the choice_description column?\n",
    "* Step 12. How many items were orderd in total?\n",
    "* Step 13.\n",
    "* • Turn the item price into a float\n",
    "* • Check the item price type\n",
    "* • Create a lambda function and change the type of item price\n",
    "* • Check the item price type\n",
    "* Step 14. How much was the revenue for the period in the dataset?\n",
    "* Step 15. How many orders were made in the period?\n",
    "* Step 16. What is the average revenue amount per order?\n",
    "* Step 17. How many different items are sold?"
   ]
  },
  {
   "cell_type": "code",
   "execution_count": 17,
   "metadata": {},
   "outputs": [],
   "source": [
    "import io\n",
    "import urllib.request\n",
    "import numpy as np\n",
    "import csv\n",
    "import pandas as pd\n",
    "from functools import reduce\n",
    "import datetime\n",
    "\n",
    "chipo = pd.read_csv(\"chipotle.tsv\", sep=\"\\t\")"
   ]
  },
  {
   "cell_type": "code",
   "execution_count": 18,
   "metadata": {},
   "outputs": [
    {
     "name": "stdout",
     "output_type": "stream",
     "text": [
      "Step 4. See the first 10 entries\n",
      "   order_id  quantity                              item_name  \\\n",
      "0         1         1           Chips and Fresh Tomato Salsa   \n",
      "1         1         1                                   Izze   \n",
      "2         1         1                       Nantucket Nectar   \n",
      "3         1         1  Chips and Tomatillo-Green Chili Salsa   \n",
      "4         2         2                           Chicken Bowl   \n",
      "5         3         1                           Chicken Bowl   \n",
      "6         3         1                          Side of Chips   \n",
      "7         4         1                          Steak Burrito   \n",
      "8         4         1                       Steak Soft Tacos   \n",
      "9         5         1                          Steak Burrito   \n",
      "\n",
      "                                  choice_description item_price  \n",
      "0                                                NaN     $2.39   \n",
      "1                                       [Clementine]     $3.39   \n",
      "2                                            [Apple]     $3.39   \n",
      "3                                                NaN     $2.39   \n",
      "4  [Tomatillo-Red Chili Salsa (Hot), [Black Beans...    $16.98   \n",
      "5  [Fresh Tomato Salsa (Mild), [Rice, Cheese, Sou...    $10.98   \n",
      "6                                                NaN     $1.69   \n",
      "7  [Tomatillo Red Chili Salsa, [Fajita Vegetables...    $11.75   \n",
      "8  [Tomatillo Green Chili Salsa, [Pinto Beans, Ch...     $9.25   \n",
      "9  [Fresh Tomato Salsa, [Rice, Black Beans, Pinto...     $9.25   \n"
     ]
    }
   ],
   "source": [
    "print('Step 4. See the first 10 entries')\n",
    "print(chipo.head(10))"
   ]
  },
  {
   "cell_type": "code",
   "execution_count": 19,
   "metadata": {},
   "outputs": [
    {
     "name": "stdout",
     "output_type": "stream",
     "text": [
      "Step 5. What is the number of observations in the dataset?\n",
      "4622\n"
     ]
    }
   ],
   "source": [
    "print('Step 5. What is the number of observations in the dataset?')\n",
    "print(chipo.shape[0])"
   ]
  },
  {
   "cell_type": "code",
   "execution_count": 20,
   "metadata": {},
   "outputs": [
    {
     "name": "stdout",
     "output_type": "stream",
     "text": [
      "Step 6. What is the number of columns in the dataset?\n",
      "5\n"
     ]
    }
   ],
   "source": [
    "print('Step 6. What is the number of columns in the dataset?')\n",
    "print(chipo.shape[1])"
   ]
  },
  {
   "cell_type": "code",
   "execution_count": 21,
   "metadata": {},
   "outputs": [
    {
     "name": "stdout",
     "output_type": "stream",
     "text": [
      "Step 7. Print the name of all the columns.\n",
      "Index(['order_id', 'quantity', 'item_name', 'choice_description',\n",
      "       'item_price'],\n",
      "      dtype='object')\n"
     ]
    }
   ],
   "source": [
    "print('Step 7. Print the name of all the columns.')\n",
    "print(chipo.columns)"
   ]
  },
  {
   "cell_type": "code",
   "execution_count": 22,
   "metadata": {},
   "outputs": [
    {
     "name": "stdout",
     "output_type": "stream",
     "text": [
      "Step 8. How is the dataset indexed?\n",
      "RangeIndex(start=0, stop=4622, step=1)\n"
     ]
    }
   ],
   "source": [
    "print('Step 8. How is the dataset indexed?')\n",
    "print(chipo.index)"
   ]
  },
  {
   "cell_type": "code",
   "execution_count": 26,
   "metadata": {},
   "outputs": [
    {
     "name": "stdout",
     "output_type": "stream",
     "text": [
      "Step 9. Which was the most-ordered item?\n",
      "Chicken Bowl\n"
     ]
    }
   ],
   "source": [
    "print('Step 9. Which was the most-ordered item?')\n",
    "choice = chipo.groupby('item_name').sum().sort_values(['quantity'], ascending=False).head(1)\n",
    "print(choice.iloc[0].name)"
   ]
  },
  {
   "cell_type": "code",
   "execution_count": 27,
   "metadata": {},
   "outputs": [
    {
     "name": "stdout",
     "output_type": "stream",
     "text": [
      "Step 10. For the most-ordered item, how many items were ordered?\n",
      "761\n"
     ]
    }
   ],
   "source": [
    "print('Step 10. For the most-ordered item, how many items were ordered?')\n",
    "print(choice.iloc[0].quantity)"
   ]
  },
  {
   "cell_type": "code",
   "execution_count": 29,
   "metadata": {},
   "outputs": [
    {
     "name": "stdout",
     "output_type": "stream",
     "text": [
      "Step 11. What was the most ordered item in the choice_description column?\n",
      "[Diet Coke]\n"
     ]
    }
   ],
   "source": [
    "print('Step 11. What was the most ordered item in the choice_description column?')\n",
    "choice = chipo.groupby('choice_description').sum().sort_values(['quantity'], ascending=False).head(1)\n",
    "print(choice.iloc[0].name)"
   ]
  },
  {
   "cell_type": "code",
   "execution_count": 30,
   "metadata": {},
   "outputs": [
    {
     "name": "stdout",
     "output_type": "stream",
     "text": [
      "Step 12. How many items were orderd in total?\n",
      "4972\n"
     ]
    }
   ],
   "source": [
    "print('Step 12. How many items were orderd in total?')\n",
    "print(chipo['quantity'].sum())"
   ]
  },
  {
   "cell_type": "code",
   "execution_count": 31,
   "metadata": {},
   "outputs": [
    {
     "name": "stdout",
     "output_type": "stream",
     "text": [
      "Step 13.• Turn the item price into a float • Check the item price type • Create a lambda function and change the type of item price • Check the item price type\n",
      "object\n",
      "float64\n"
     ]
    }
   ],
   "source": [
    "print('Step 13.• Turn the item price into a float • Check the item price type • Create a lambda function and change the type of item price • Check the item price type')\n",
    "print(chipo['item_price'].dtype)\n",
    "chipo['item_price'] = chipo['item_price'].apply(lambda x: float(x[1:-1]))\n",
    "print(chipo['item_price'].dtype)"
   ]
  },
  {
   "cell_type": "code",
   "execution_count": 32,
   "metadata": {},
   "outputs": [
    {
     "name": "stdout",
     "output_type": "stream",
     "text": [
      "Step 14. How much was the revenue for the period in the dataset?\n",
      "39237.02\n"
     ]
    }
   ],
   "source": [
    "print('Step 14. How much was the revenue for the period in the dataset?')\n",
    "print((chipo['quantity']* chipo['item_price']).sum())"
   ]
  },
  {
   "cell_type": "code",
   "execution_count": 33,
   "metadata": {},
   "outputs": [
    {
     "name": "stdout",
     "output_type": "stream",
     "text": [
      "Step 15. How many orders were made in the period?\n",
      "1834\n"
     ]
    }
   ],
   "source": [
    "print('Step 15. How many orders were made in the period?')\n",
    "print(chipo['order_id'].value_counts().count())"
   ]
  },
  {
   "cell_type": "code",
   "execution_count": 34,
   "metadata": {},
   "outputs": [
    {
     "name": "stdout",
     "output_type": "stream",
     "text": [
      "Step 16. What is the average revenue amount per order?\n",
      "21.394231188658654\n"
     ]
    }
   ],
   "source": [
    "print('Step 16. What is the average revenue amount per order?')\n",
    "chipo['revenue'] = chipo['quantity'] * chipo['item_price']\n",
    "print(chipo.groupby('order_id').sum().mean()['revenue'])"
   ]
  },
  {
   "cell_type": "code",
   "execution_count": 35,
   "metadata": {},
   "outputs": [
    {
     "name": "stdout",
     "output_type": "stream",
     "text": [
      "Step 17. How many different items are sold?\n",
      "50\n"
     ]
    }
   ],
   "source": [
    "print('Step 17. How many different items are sold?')\n",
    "print(chipo['item_name'].value_counts().count())"
   ]
  },
  {
   "cell_type": "markdown",
   "metadata": {},
   "source": [
    "## Question 6\n",
    "Create a line plot showing the number of marriages and divorces per capita in the U.S. between 1867 and 2014. Label both lines and show the legend.\n",
    "Don't forget to label your axes!"
   ]
  },
  {
   "cell_type": "code",
   "execution_count": 36,
   "metadata": {},
   "outputs": [
    {
     "data": {
      "image/png": "[encoded data removed]",
      "text/plain": [
       "<Figure size 576x432 with 1 Axes>"
      ]
     },
     "metadata": {
      "needs_background": "light"
     },
     "output_type": "display_data"
    }
   ],
   "source": [
    "import pandas as pd\n",
    "import matplotlib.pyplot as plt\n",
    "import matplotlib.dates as mdates\n",
    "import numpy as np\n",
    "\n",
    "data = pd.read_csv('us-marriages-divorces-1867-2014.csv').dropna()\n",
    "\n",
    "fig, ax = plt.subplots(figsize=(8, 6))\n",
    "ax.plot(data['Year'], data['Marriages_per_1000'], label='Marriages')\n",
    "ax.plot(data['Year'], data['Divorces_per_1000'], label='Divorces')\n",
    "\n",
    "ax.set_ylabel('Per Capita')\n",
    "ax.set_xlabel('Years')\n",
    "ax.set_title('Marriages and Divorces by Capita per Year')\n",
    "ax.legend()\n",
    "\n",
    "plt.ticklabel_format(axis=\"y\", style=\"plain\")\n",
    "plt.show()"
   ]
  },
  {
   "cell_type": "markdown",
   "metadata": {},
   "source": [
    "## Question 7\n",
    "Create a vertical bar chart comparing the number of marriages and divorces per capita in the U.S. between 1900, 1950, and 2000.\n",
    "Don't forget to label your axes!"
   ]
  },
  {
   "cell_type": "code",
   "execution_count": 37,
   "metadata": {},
   "outputs": [
    {
     "data": {
      "image/png": "[encoded data removed]",
      "text/plain": [
       "<Figure size 576x432 with 1 Axes>"
      ]
     },
     "metadata": {
      "needs_background": "light"
     },
     "output_type": "display_data"
    }
   ],
   "source": [
    "import pandas as pd\n",
    "import matplotlib.pyplot as plt\n",
    "import matplotlib.dates as mdates\n",
    "import numpy as np\n",
    "\n",
    "from matplotlib.dates import date2num\n",
    "import datetime\n",
    "\n",
    "years = [1900,1950,2000]\n",
    "data = pd.read_csv('us-marriages-divorces-1867-2014.csv').dropna()\n",
    "data = data[data.Year.isin(years)]\n",
    "data = data.set_index('Year')\n",
    "\n",
    "data =  data.loc[:,['Marriages_per_1000','Divorces_per_1000']]\n",
    "data.rename(columns = {'Marriages_per_1000': 'Marriages', 'Divorces_per_1000': 'Divorces'}, inplace=True)\n",
    "ax = data.plot.bar(stacked=True,figsize=(8, 6))\n",
    "\n",
    "ax.set_ylabel('Per Capita')\n",
    "ax.set_xlabel('Years')\n",
    "ax.set_title('Marriages and Divorces by Capita')\n",
    "ax.legend()\n",
    "ax.autoscale()\n",
    "\n",
    "plt.show()"
   ]
  },
  {
   "cell_type": "markdown",
   "metadata": {},
   "source": [
    "## Question 8 \n",
    "Create a horizontal bar chart that compares the deadliest actors in Hollywood. Sort the actors by their kill count and label each bar with the corresponding actor's name. Don't forget to label your axes!"
   ]
  },
  {
   "cell_type": "code",
   "execution_count": 38,
   "metadata": {},
   "outputs": [
    {
     "data": {
      "image/png": "[encoded data removed]",
      "text/plain": [
       "<Figure size 1080x432 with 1 Axes>"
      ]
     },
     "metadata": {
      "needs_background": "light"
     },
     "output_type": "display_data"
    }
   ],
   "source": [
    "import pandas as pd\n",
    "import matplotlib.pyplot as plt\n",
    "import matplotlib.dates as mdates\n",
    "import numpy as np\n",
    "\n",
    "from matplotlib.dates import date2num\n",
    "import datetime\n",
    "\n",
    "data = pd.read_csv('actor_kill_counts.csv')\n",
    "data = data.sort_values(['Count'], ascending=True)\n",
    "\n",
    "data.rename(columns = {'Actor': 'Actor', 'Count': 'Kills'}, inplace=True)\n",
    "ax = data.plot.barh(x='Actor', y='Kills', figsize=(15, 6))\n",
    "\n",
    "ax.set_title('Deadliest actors in Hollywood')\n",
    "ax.legend()\n",
    "ax.autoscale()\n",
    "\n",
    "plt.show()"
   ]
  },
  {
   "cell_type": "markdown",
   "metadata": {},
   "source": [
    "## Question 9\n",
    "Create a pie chart showing the fraction of all Roman Emperors that were assassinated.\n",
    "Make sure that the pie chart is an even circle, labels the categories, and shows the percentage breakdown of the categories."
   ]
  },
  {
   "cell_type": "code",
   "execution_count": 39,
   "metadata": {},
   "outputs": [
    {
     "data": {
      "image/png": "[encoded data removed]",
      "text/plain": [
       "<Figure size 720x432 with 1 Axes>"
      ]
     },
     "metadata": {},
     "output_type": "display_data"
    }
   ],
   "source": [
    "import pandas as pd\n",
    "import matplotlib.pyplot as plt\n",
    "import matplotlib.dates as mdates\n",
    "import numpy as np\n",
    "\n",
    "from matplotlib.dates import date2num\n",
    "import datetime\n",
    "\n",
    "data = pd.read_csv('roman-emperor-reigns.csv')\n",
    "data = data[data['Cause_of_Death'].apply(lambda x: 'assassinated' in x.lower())]\n",
    "\n",
    "causeOfDeath = data.groupby('Cause_of_Death').count()['Emperor']\n",
    "causeOfDeath = causeOfDeath.div(causeOfDeath.sum())*100\n",
    "\n",
    "ax = causeOfDeath.plot.pie(\n",
    "    autopct=lambda x: \"{:.1f}%\".format(x), figsize=(10, 6))\n",
    "\n",
    "ax.set_title('Assassinated Roman Emperors')\n",
    "ax.legend(loc=\"center left\", bbox_to_anchor=(1, 0, 0.5, 1))\n",
    "ax.autoscale(tight=True)\n",
    "\n",
    "plt.show()"
   ]
  },
  {
   "cell_type": "markdown",
   "metadata": {},
   "source": [
    "## Question 10\n",
    "Create a scatter plot showing the relationship between the total revenue earned by arcades and the number of Computer Science PhDs awarded in the U.S. between 2000 and 2009.\n",
    "Don't forget to label your axes!\n",
    "Color each dot according to its year."
   ]
  },
  {
   "cell_type": "code",
   "execution_count": 43,
   "metadata": {},
   "outputs": [
    {
     "data": {
      "image/png": "[encoded data removed]",
      "text/plain": [
       "<Figure size 432x288 with 2 Axes>"
      ]
     },
     "metadata": {
      "needs_background": "light"
     },
     "output_type": "display_data"
    }
   ],
   "source": [
    "import pandas as pd\n",
    "import matplotlib.pyplot as plt\n",
    "import matplotlib.dates as mdates\n",
    "import numpy as np\n",
    "\n",
    "from matplotlib.dates import date2num\n",
    "import datetime\n",
    "\n",
    "data = pd.read_csv('arcade-revenue-vs-cs-doctorates.csv')\n",
    "\n",
    "ax = data.plot.scatter(\n",
    "    x='Total Arcade Revenue (billions)',\n",
    "    y='Computer Science Doctorates Awarded (US)',\n",
    "    c='Year',\n",
    "    colormap='Dark2')\n",
    "\n",
    "ax.set_title('Relationship between revenue and Computer Science PhDs')\n",
    "ax.set(xlabel=\"Total Arcade Revenue (billions)\")\n",
    "plt.show()"
   ]
  },
  {
   "cell_type": "code",
   "execution_count": null,
   "metadata": {},
   "outputs": [],
   "source": []
  }
 ],
 "metadata": {
  "kernelspec": {
   "display_name": "Python 3",
   "language": "python",
   "name": "python3"
  },
  "language_info": {
   "codemirror_mode": {
    "name": "ipython",
    "version": 3
   },
   "file_extension": ".py",
   "mimetype": "text/x-python",
   "name": "python",
   "nbconvert_exporter": "python",
   "pygments_lexer": "ipython3",
   "version": "3.7.6"
  }
 },
 "nbformat": 4,
 "nbformat_minor": 4
}
